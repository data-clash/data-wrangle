{
 "cells": [
  {
   "cell_type": "markdown",
   "metadata": {},
   "source": [
    "# Twitter data Insights \n",
    "\n",
    "I analyzed WeRateDogs Twitter data from November 2015 till August 2017 , gathered more than 5000+ tweets, cleaned to 2049 tweets, merged it with a dog breed prediction algorithm and some more twitter data to bring you some exciting insights on this data.\n",
    "\n",
    "<hr>\n",
    "\n",
    "### 1. Popularity dropped?\n",
    "WeRateTwitter started very strong in 2015 (November, December) almost more than 300 tweets per day. Highest number of tweets were seen in the month of December 2015, around 370 tweets. However, over time the popularity looks like have dropped. In 2016, there was a big fall in number of tweets to 180 tweets, which further degraded to just to 55 tweets in April 2016. From 2017 April, now just around 50 is the new average number of tweets per months\n",
    "\n",
    "<img src=\"img-results/tweetTrend.png\"/>\n",
    "\n",
    "<hr>\n",
    "\n",
    "### 2. Looking for pooch names, anyone?\n",
    "Out of 2049 tweets, I found dog names in 1411 tweets. There were 947 unique dog names found. Lucy and Charlie are the most common dog name (appearing 11 times). Other popular names are Cooper(10 times) , Oliver(10 times) and Tucker(9 times).\n",
    "Did you find your favorite name in the name cloud below?\n",
    "\n",
    "<img src=\"img-results/nameCloud.png\"/>\n",
    "\n",
    "<hr>\n",
    "\n",
    "### 3. iPhone Users love WeRateTwitter\n",
    "More than 93% of the tweets come from Twitter iPhone users. There are some other sources too like Vine,Twitter Web Client, Tweet deck. \n",
    "\n",
    "<img src=\"img-results/tweetSources.png\"/>\n",
    "\n",
    "<hr>\n",
    "\n",
    "### 4. Fans love Doggos!!\n",
    "Out of 2049 tweets, the algorithm could extract stages for only 338 tweets. In this data, I found that :\n",
    "Doggo has highest retweet count out of all stages (79515 retweets)\n",
    "Pupper has maximum number of retweets(222 retweets)\n",
    "The average number of retweets is highest for doggo (6610 retweets on average)\n",
    "There are not too many retweets of multiple stages for each retweet.\n",
    "\n",
    "<img src=\"img-results/relationship.png\"/>\n",
    "\n",
    "<hr>\n",
    "\n",
    "### 5. Pugs and Samoyed!!\n",
    "Out of 2049 tweets, the algorithm could predict dog breed for only 181 tweets from their images. There were 44 unique breeds found in these tweets. It is difficult to tell which are the most tweeted dog breeds due to the limited number of data. However, for this small sample we see small pups steal the show. Pugs,Pembroke and Samoyed are most common dog breeds tweeted (19 times each) by the users, followed by Golden retrievers(16 tweets) and Pomeranian(13 tweets).\n",
    "\n",
    "<img src=\"img-results/dogbreeds.png\"/>\n",
    "\n",
    "<hr>\n",
    "\n",
    "### 6. Rating pattern\n",
    "476 users have rated their dogs 12 out of 10. Next popular rating for dogs is 10 (426 users) followed by 11(406 users). There are some really super high outliers like 1776 and 420. Minimum rating is 1. Most of the tweets have rated their dogs from 10 to 13.  \n",
    "\n",
    "<img src=\"img-results/rating-distribution.png\"/>\n",
    "\n",
    "<hr>\n",
    "\n",
    "### 7. Star Favorite! \n",
    "All time most favorite count for users is the below Puppo with 132810 favorite count and 48265 retweets. The photo was tweeted on 21-01-2017. \n",
    "\n",
    "<img src=\"img-results/fav-dog.jpg\"/>"
   ]
  },
  {
   "cell_type": "code",
   "execution_count": null,
   "metadata": {},
   "outputs": [],
   "source": []
  }
 ],
 "metadata": {
  "kernelspec": {
   "display_name": "Python 3",
   "language": "python",
   "name": "python3"
  },
  "language_info": {
   "codemirror_mode": {
    "name": "ipython",
    "version": 3
   },
   "file_extension": ".py",
   "mimetype": "text/x-python",
   "name": "python",
   "nbconvert_exporter": "python",
   "pygments_lexer": "ipython3",
   "version": "3.6.3"
  }
 },
 "nbformat": 4,
 "nbformat_minor": 2
}
